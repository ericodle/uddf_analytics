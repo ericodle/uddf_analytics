{
  "nbformat": 4,
  "nbformat_minor": 0,
  "metadata": {
    "colab": {
      "name": "UDDF_3Dtraj.ipynb",
      "provenance": [],
      "collapsed_sections": [],
      "mount_file_id": "1mgUPSUVFa_vs5nQPZaGnm_q1gU3b77wE",
      "authorship_tag": "ABX9TyMBKuxLZ/1ymeRe6Qt5lm6w",
      "include_colab_link": true
    },
    "kernelspec": {
      "name": "python3",
      "display_name": "Python 3"
    },
    "language_info": {
      "name": "python"
    }
  },
  "cells": [
    {
      "cell_type": "markdown",
      "metadata": {
        "id": "view-in-github",
        "colab_type": "text"
      },
      "source": [
        "<a href=\"https://colab.research.google.com/github/ericodle/uddf_analytics/blob/main/UDDF_3Dtraj.ipynb\" target=\"_parent\"><img src=\"https://colab.research.google.com/assets/colab-badge.svg\" alt=\"Open In Colab\"/></a>"
      ]
    },
    {
      "cell_type": "markdown",
      "source": [
        "Dive computers store data in standard UDDF (Universal Dive Data Format)...format. \n",
        "If you open one of these files in a text editor, you get a block of text with various tags and values. To make sense of this infomation, we must first parse it.\n",
        "The base standard is XML (eXtensible Markup Language), which Python conveniently has a built-in library to read."
      ],
      "metadata": {
        "id": "vYGMG32zJ3FP"
      }
    },
    {
      "cell_type": "code",
      "execution_count": 112,
      "metadata": {
        "id": "AT9T9p1MJwXY"
      },
      "outputs": [],
      "source": [
        "# Original UDDF fule transferred from my ATMOS dive computer. \n",
        "# Upload from local machine to colab notebook. \n",
        "# https://github.com/ericodle/uddf_analytics/blob/main/example.uddf\n",
        "# Note: the directly downloaded file doesn't seem to work with the parser.\n",
        "\n",
        "divelog = \"/content/example.uddf\""
      ]
    },
    {
      "cell_type": "code",
      "source": [
        "# This is the Python parser we will use.\n",
        "import xml.etree.ElementTree as ET\n",
        "\n",
        "tree = ET.parse(divelog)\n",
        "root = tree.getroot()\n",
        "\n",
        "print(\"Root Tag:\")\n",
        "print(root.tag)\n",
        "\n",
        "print(\"Root Attribute:\")\n",
        "print(root.attrib)"
      ],
      "metadata": {
        "colab": {
          "base_uri": "https://localhost:8080/"
        },
        "id": "4YKLap7IK6vt",
        "outputId": "748cbbcf-1969-40d6-e2ea-e93a7733b6d1"
      },
      "execution_count": 113,
      "outputs": [
        {
          "output_type": "stream",
          "name": "stdout",
          "text": [
            "Root Tag:\n",
            "uddf\n",
            "Root Attribute:\n",
            "{'version': '3.2.3'}\n"
          ]
        }
      ]
    },
    {
      "cell_type": "markdown",
      "source": [
        "UDDF format gives us a bunch of details for our dive, depending on whether or not the dive computer is set up to log it. For this project, we care about the ***divetime***, ***depth***, and ***heading*** tags.\n",
        "\n",
        "The dive was 54 min 19 sec, which works out to 3259 seconds. With a start time of 0 and values apparently logged every 3 seconds, a final divetime value of 3255 passes the common sense test. \n",
        "\n",
        "We can look at the same data but for depth (unit = meters), and note an error of +/- 0.2 meters. This was also the discrepency between the Atmos and my Suunto, and I assume it is within sensor tolerance.\n",
        "\n",
        "Let's store time, depth, and heading as their own variables."
      ],
      "metadata": {
        "id": "oEBq2N9UOx3A"
      }
    },
    {
      "cell_type": "code",
      "source": [
        "dive_time = []\n",
        "for divetime in root.iter('divetime'):\n",
        "    dive_time.append(divetime.text)\n",
        "\n",
        "dive_depth = []\n",
        "for depth in root.iter('depth'):\n",
        "    dive_depth.append(depth.text)\n",
        "\n",
        "dive_heading = []\n",
        "for heading in root.iter('heading'):\n",
        "    dive_heading.append(heading.text)"
      ],
      "metadata": {
        "id": "01lxne8bQzO9"
      },
      "execution_count": 124,
      "outputs": []
    },
    {
      "cell_type": "markdown",
      "source": [
        "Quick common sense check: all three lists should be the same length, given our assumption that the data will be paired and sequential for our rudimentary trajectory calculation. I found that the heading class is sometimes 2 values less than the others. This can cause an out-of-range index error later. As a workaround, you can duplcate the last heading and append it to the variable as needed."
      ],
      "metadata": {
        "id": "jFrQgkWgRlEb"
      }
    },
    {
      "cell_type": "code",
      "source": [
        "dive_heading.append(dive_heading[1083])"
      ],
      "metadata": {
        "id": "JK98UOY2yYCr"
      },
      "execution_count": 130,
      "outputs": []
    },
    {
      "cell_type": "code",
      "source": [
        "dive_heading.append(dive_heading[1084])"
      ],
      "metadata": {
        "id": "V3mi-JlZyil6"
      },
      "execution_count": 132,
      "outputs": []
    },
    {
      "cell_type": "code",
      "source": [
        "print(len(dive_time))\n",
        "print(len(dive_depth))\n",
        "print(len(dive_heading))"
      ],
      "metadata": {
        "colab": {
          "base_uri": "https://localhost:8080/"
        },
        "id": "klBFugVtynJf",
        "outputId": "4bc672c2-63fe-4cf0-e571-4d7a2a0756ee"
      },
      "execution_count": 134,
      "outputs": [
        {
          "output_type": "stream",
          "name": "stdout",
          "text": [
            "1086\n",
            "1086\n",
            "1086\n"
          ]
        }
      ]
    },
    {
      "cell_type": "markdown",
      "source": [
        "We almost have all the pieces necessary to construct a 3D trajectory. Since the accelerometer data was not included in the dive log file, we need to make a few unrealistic but model-simplifying assumptions.\n",
        "\n",
        "First, we assume that from the start of the dive to the end of the dive, the diver was moving at a constant rate in an orientation perfectly normal to the center of the earth.\n",
        "\n",
        "Second, we assume no current.\n",
        "\n",
        "Third, as stated previously, we assume the compass reflects the true diver heading.\n",
        "\n",
        "Under these assumptions, we can construct a step-wise trajectory in 3D space. \n",
        "I want to try a connect-the-dots approach. Given a known heading and speed, we can calculate XYZ positions at each time step. How about....each step is a 4-element tuple (t,x,y,z) and the whole route is a list? "
      ],
      "metadata": {
        "id": "R9SOWcBxSi_C"
      }
    },
    {
      "cell_type": "code",
      "source": [
        "import numpy as np\n",
        "import math\n",
        "\n",
        "# Trigonometry experts, please check my logic.\n",
        "\n",
        "def pol2cart_x(diverSpeed, phi):\n",
        "    x = float(diverSpeed) * np.cos(math.radians(float(phi)))\n",
        "    return(x)\n",
        "\n",
        "def pol2cart_y(diverSpeed, phi):\n",
        "    y = float(diverSpeed) * np.sin(math.radians(float(phi)))\n",
        "    return(y)"
      ],
      "metadata": {
        "id": "09ORRZJxUiGK"
      },
      "execution_count": 135,
      "outputs": []
    },
    {
      "cell_type": "markdown",
      "source": [
        "The above functions will calculate X and Y movement at each step based on a known diver swim speed and heading angle (taken from wrist computer compass in this example)."
      ],
      "metadata": {
        "id": "e65ChpkJjza_"
      }
    },
    {
      "cell_type": "code",
      "source": [
        "route = []\n",
        "\n",
        "diver_speed = 1 # Arbitrary unitless value for easy polar -> cartesian conversion\n",
        "\n",
        "# x and y are going to change with each iteration of the FOR loop,\n",
        "# so we need to keep track of them.\n",
        "x = 0 # x-axis is taken as the North-South axis\n",
        "y = 0 # y-axis is taken as the East-West axis\n",
        "\n",
        "for i in range(0,len(dive_time)):\n",
        "  t = dive_time[i]\n",
        "  x += pol2cart_x(diver_speed, dive_heading[i])\n",
        "  y += pol2cart_y(diver_speed, dive_heading[i])\n",
        "  z = float(dive_depth[i]) * (-1) # z-axis is taken as depth.\n",
        "\n",
        "  route.append((t, x, y, z))"
      ],
      "metadata": {
        "id": "jcd3CGZiUmKb"
      },
      "execution_count": 136,
      "outputs": []
    },
    {
      "cell_type": "markdown",
      "source": [
        "We now have X's, Y's, and Z's. Let's plot them. \n",
        "Pandas dataframes are more familiar to me here."
      ],
      "metadata": {
        "id": "qMiK-kulkWMb"
      }
    },
    {
      "cell_type": "code",
      "source": [
        "import pandas as pd\n",
        "df = pd.DataFrame(route, columns =['time', 'x', 'y', 'z'], dtype = float)"
      ],
      "metadata": {
        "id": "p7ESL8qGkveD"
      },
      "execution_count": 137,
      "outputs": []
    },
    {
      "cell_type": "markdown",
      "source": [
        "Check the DataFrame."
      ],
      "metadata": {
        "id": "De08rKW8lnR1"
      }
    },
    {
      "cell_type": "code",
      "source": [
        "df"
      ],
      "metadata": {
        "colab": {
          "base_uri": "https://localhost:8080/",
          "height": 424
        },
        "id": "ezUw1n1slTQ3",
        "outputId": "1b21a440-75b9-471f-80d0-9fea64fb116d"
      },
      "execution_count": 138,
      "outputs": [
        {
          "output_type": "execute_result",
          "data": {
            "text/plain": [
              "        time           x          y      z\n",
              "0        0.0   -0.258819   0.965926 -2.625\n",
              "1        3.0   -0.311155   1.964555 -2.675\n",
              "2        6.0    0.142835   2.855562 -2.675\n",
              "3        9.0   -0.401804   3.694232 -2.965\n",
              "4       12.0   -0.366904   4.693623 -3.265\n",
              "...      ...         ...        ...    ...\n",
              "1081  3243.0  -98.242219 -69.864725  0.205\n",
              "1082  3246.0  -99.071257 -69.305532  0.215\n",
              "1083  3249.0  -99.890409 -69.879109  0.225\n",
              "1084  3252.0 -100.709561 -70.452685  0.195\n",
              "1085  3255.0 -101.528713 -71.026262  0.195\n",
              "\n",
              "[1086 rows x 4 columns]"
            ],
            "text/html": [
              "\n",
              "  <div id=\"df-b61bf515-9836-4c0b-a9d5-e41efce4e112\">\n",
              "    <div class=\"colab-df-container\">\n",
              "      <div>\n",
              "<style scoped>\n",
              "    .dataframe tbody tr th:only-of-type {\n",
              "        vertical-align: middle;\n",
              "    }\n",
              "\n",
              "    .dataframe tbody tr th {\n",
              "        vertical-align: top;\n",
              "    }\n",
              "\n",
              "    .dataframe thead th {\n",
              "        text-align: right;\n",
              "    }\n",
              "</style>\n",
              "<table border=\"1\" class=\"dataframe\">\n",
              "  <thead>\n",
              "    <tr style=\"text-align: right;\">\n",
              "      <th></th>\n",
              "      <th>time</th>\n",
              "      <th>x</th>\n",
              "      <th>y</th>\n",
              "      <th>z</th>\n",
              "    </tr>\n",
              "  </thead>\n",
              "  <tbody>\n",
              "    <tr>\n",
              "      <th>0</th>\n",
              "      <td>0.0</td>\n",
              "      <td>-0.258819</td>\n",
              "      <td>0.965926</td>\n",
              "      <td>-2.625</td>\n",
              "    </tr>\n",
              "    <tr>\n",
              "      <th>1</th>\n",
              "      <td>3.0</td>\n",
              "      <td>-0.311155</td>\n",
              "      <td>1.964555</td>\n",
              "      <td>-2.675</td>\n",
              "    </tr>\n",
              "    <tr>\n",
              "      <th>2</th>\n",
              "      <td>6.0</td>\n",
              "      <td>0.142835</td>\n",
              "      <td>2.855562</td>\n",
              "      <td>-2.675</td>\n",
              "    </tr>\n",
              "    <tr>\n",
              "      <th>3</th>\n",
              "      <td>9.0</td>\n",
              "      <td>-0.401804</td>\n",
              "      <td>3.694232</td>\n",
              "      <td>-2.965</td>\n",
              "    </tr>\n",
              "    <tr>\n",
              "      <th>4</th>\n",
              "      <td>12.0</td>\n",
              "      <td>-0.366904</td>\n",
              "      <td>4.693623</td>\n",
              "      <td>-3.265</td>\n",
              "    </tr>\n",
              "    <tr>\n",
              "      <th>...</th>\n",
              "      <td>...</td>\n",
              "      <td>...</td>\n",
              "      <td>...</td>\n",
              "      <td>...</td>\n",
              "    </tr>\n",
              "    <tr>\n",
              "      <th>1081</th>\n",
              "      <td>3243.0</td>\n",
              "      <td>-98.242219</td>\n",
              "      <td>-69.864725</td>\n",
              "      <td>0.205</td>\n",
              "    </tr>\n",
              "    <tr>\n",
              "      <th>1082</th>\n",
              "      <td>3246.0</td>\n",
              "      <td>-99.071257</td>\n",
              "      <td>-69.305532</td>\n",
              "      <td>0.215</td>\n",
              "    </tr>\n",
              "    <tr>\n",
              "      <th>1083</th>\n",
              "      <td>3249.0</td>\n",
              "      <td>-99.890409</td>\n",
              "      <td>-69.879109</td>\n",
              "      <td>0.225</td>\n",
              "    </tr>\n",
              "    <tr>\n",
              "      <th>1084</th>\n",
              "      <td>3252.0</td>\n",
              "      <td>-100.709561</td>\n",
              "      <td>-70.452685</td>\n",
              "      <td>0.195</td>\n",
              "    </tr>\n",
              "    <tr>\n",
              "      <th>1085</th>\n",
              "      <td>3255.0</td>\n",
              "      <td>-101.528713</td>\n",
              "      <td>-71.026262</td>\n",
              "      <td>0.195</td>\n",
              "    </tr>\n",
              "  </tbody>\n",
              "</table>\n",
              "<p>1086 rows × 4 columns</p>\n",
              "</div>\n",
              "      <button class=\"colab-df-convert\" onclick=\"convertToInteractive('df-b61bf515-9836-4c0b-a9d5-e41efce4e112')\"\n",
              "              title=\"Convert this dataframe to an interactive table.\"\n",
              "              style=\"display:none;\">\n",
              "        \n",
              "  <svg xmlns=\"http://www.w3.org/2000/svg\" height=\"24px\"viewBox=\"0 0 24 24\"\n",
              "       width=\"24px\">\n",
              "    <path d=\"M0 0h24v24H0V0z\" fill=\"none\"/>\n",
              "    <path d=\"M18.56 5.44l.94 2.06.94-2.06 2.06-.94-2.06-.94-.94-2.06-.94 2.06-2.06.94zm-11 1L8.5 8.5l.94-2.06 2.06-.94-2.06-.94L8.5 2.5l-.94 2.06-2.06.94zm10 10l.94 2.06.94-2.06 2.06-.94-2.06-.94-.94-2.06-.94 2.06-2.06.94z\"/><path d=\"M17.41 7.96l-1.37-1.37c-.4-.4-.92-.59-1.43-.59-.52 0-1.04.2-1.43.59L10.3 9.45l-7.72 7.72c-.78.78-.78 2.05 0 2.83L4 21.41c.39.39.9.59 1.41.59.51 0 1.02-.2 1.41-.59l7.78-7.78 2.81-2.81c.8-.78.8-2.07 0-2.86zM5.41 20L4 18.59l7.72-7.72 1.47 1.35L5.41 20z\"/>\n",
              "  </svg>\n",
              "      </button>\n",
              "      \n",
              "  <style>\n",
              "    .colab-df-container {\n",
              "      display:flex;\n",
              "      flex-wrap:wrap;\n",
              "      gap: 12px;\n",
              "    }\n",
              "\n",
              "    .colab-df-convert {\n",
              "      background-color: #E8F0FE;\n",
              "      border: none;\n",
              "      border-radius: 50%;\n",
              "      cursor: pointer;\n",
              "      display: none;\n",
              "      fill: #1967D2;\n",
              "      height: 32px;\n",
              "      padding: 0 0 0 0;\n",
              "      width: 32px;\n",
              "    }\n",
              "\n",
              "    .colab-df-convert:hover {\n",
              "      background-color: #E2EBFA;\n",
              "      box-shadow: 0px 1px 2px rgba(60, 64, 67, 0.3), 0px 1px 3px 1px rgba(60, 64, 67, 0.15);\n",
              "      fill: #174EA6;\n",
              "    }\n",
              "\n",
              "    [theme=dark] .colab-df-convert {\n",
              "      background-color: #3B4455;\n",
              "      fill: #D2E3FC;\n",
              "    }\n",
              "\n",
              "    [theme=dark] .colab-df-convert:hover {\n",
              "      background-color: #434B5C;\n",
              "      box-shadow: 0px 1px 3px 1px rgba(0, 0, 0, 0.15);\n",
              "      filter: drop-shadow(0px 1px 2px rgba(0, 0, 0, 0.3));\n",
              "      fill: #FFFFFF;\n",
              "    }\n",
              "  </style>\n",
              "\n",
              "      <script>\n",
              "        const buttonEl =\n",
              "          document.querySelector('#df-b61bf515-9836-4c0b-a9d5-e41efce4e112 button.colab-df-convert');\n",
              "        buttonEl.style.display =\n",
              "          google.colab.kernel.accessAllowed ? 'block' : 'none';\n",
              "\n",
              "        async function convertToInteractive(key) {\n",
              "          const element = document.querySelector('#df-b61bf515-9836-4c0b-a9d5-e41efce4e112');\n",
              "          const dataTable =\n",
              "            await google.colab.kernel.invokeFunction('convertToInteractive',\n",
              "                                                     [key], {});\n",
              "          if (!dataTable) return;\n",
              "\n",
              "          const docLinkHtml = 'Like what you see? Visit the ' +\n",
              "            '<a target=\"_blank\" href=https://colab.research.google.com/notebooks/data_table.ipynb>data table notebook</a>'\n",
              "            + ' to learn more about interactive tables.';\n",
              "          element.innerHTML = '';\n",
              "          dataTable['output_type'] = 'display_data';\n",
              "          await google.colab.output.renderOutput(dataTable, element);\n",
              "          const docLink = document.createElement('div');\n",
              "          docLink.innerHTML = docLinkHtml;\n",
              "          element.appendChild(docLink);\n",
              "        }\n",
              "      </script>\n",
              "    </div>\n",
              "  </div>\n",
              "  "
            ]
          },
          "metadata": {},
          "execution_count": 138
        }
      ]
    },
    {
      "cell_type": "markdown",
      "source": [
        "Finally, we can use MatPlotLib's 3D graphing function to plot our points. Given Colab's zoomed-out, tiny window, the points will be so close together that they will form the appearance of a solid line. Otherwise we could trace a line through the points."
      ],
      "metadata": {
        "id": "Icr1zPeZyyql"
      }
    },
    {
      "cell_type": "code",
      "source": [
        "from matplotlib import pyplot as plt\n",
        "import numpy as np\n",
        "from mpl_toolkits.mplot3d import Axes3D\n",
        "\n",
        "fig = plt.figure()\n",
        "ax = fig.add_subplot(projection='3d')\n",
        "\n",
        "ax.scatter(df[\"x\"], df[\"y\"], df[\"z\"])"
      ],
      "metadata": {
        "colab": {
          "base_uri": "https://localhost:8080/",
          "height": 266
        },
        "id": "gKdS-urIknf_",
        "outputId": "92d3c621-b930-4686-896c-3a8a959cfab0"
      },
      "execution_count": 140,
      "outputs": [
        {
          "output_type": "execute_result",
          "data": {
            "text/plain": [
              "<mpl_toolkits.mplot3d.art3d.Path3DCollection at 0x7fdc9fc00a90>"
            ]
          },
          "metadata": {},
          "execution_count": 140
        },
        {
          "output_type": "display_data",
          "data": {
            "text/plain": [
              "<Figure size 432x288 with 1 Axes>"
            ],
            "image/png": "[encoded data removed]"
          },
          "metadata": {
            "needs_background": "light"
          }
        }
      ]
    },
    {
      "cell_type": "markdown",
      "source": [
        "The route goes down, then comes up, following roughly the same path out and in. You can see the start and end points are far apart, which is what we did at Bat Cave (northern Taiwan) during our annual underwater beach cleanup when the data was logged. \n",
        "\n",
        "Getting interactive MatPlotLib graphs to work in Google Colab is tricky. If you run this on your local computer you can probably rotate the trajectory in 3D.\n",
        "\n",
        "Dive computers provide a wealth of data for divers to analyze independently. "
      ],
      "metadata": {
        "id": "_gW5kpMLl3hM"
      }
    }
  ]
}